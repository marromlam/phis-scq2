{
 "cells": [
  {
   "cell_type": "code",
   "execution_count": 169,
   "id": "805ef0b3",
   "metadata": {},
   "outputs": [],
   "source": [
    "import numpy as np\n",
    "import complot\n",
    "import matplotlib.pyplot as plt\n",
    "import uproot3 as uproot\n",
    "import ipanema\n",
    "import pandas as pd\n",
    "import math\n",
    "import complot\n",
    "from uncertainties import unumpy as unp\n",
    "import uncertainties as unc"
   ]
  },
  {
   "cell_type": "code",
   "execution_count": 170,
   "id": "a053e56f",
   "metadata": {},
   "outputs": [],
   "source": [
    "data = pd.concat(\n",
    "[\n",
    "  uproot.open(f\"/scratch49/marcos.romero/sidecar/{y}/Bs2JpsiPhi/v2r0@LcosK.root\")['DecayTree'].pandas.df(flatten=None) for y in (2015, 2016, 2017, 2018)\n",
    "]\n",
    ")\n",
    "df = data # .query(\"X_M<1008\")"
   ]
  },
  {
   "cell_type": "code",
   "execution_count": 143,
   "id": "3c8c8187",
   "metadata": {},
   "outputs": [],
   "source": [
    "data = uproot.open(\"/scratch08/marcos.romero/tuples/data/BsJpsiPhi_Data_2016_UpDown_20190123_tmva_cut58_sel_comb_sw_corrLb.root\")[\"DecayTree\"].pandas.df(flatten=None)\n",
    "df = data # .query(\"X_M<1008\")\n",
    "df.eval(\"tagOSdec = tagos_dec_new\", inplace=True)\n",
    "df.eval(\"tagOSeta = tagos_eta_new\", inplace=True)\n",
    "df.eval(\"cosK = helcosthetaK\", inplace=True)\n",
    "df.eval(\"cosL = helcosthetaL\", inplace=True)\n",
    "df.eval(\"hphi = helphi\", inplace=True)\n",
    "df.eval(\"tagSSdec = B_SSKaonLatest_TAGDEC\", inplace=True)\n",
    "df.eval(\"tagSSeta = B_SSKaonLatest_TAGETA\", inplace=True)"
   ]
  },
  {
   "cell_type": "code",
   "execution_count": 171,
   "id": "cae5d3dc",
   "metadata": {},
   "outputs": [
    {
     "name": "stdout",
     "output_type": "stream",
     "text": [
      "OrderedDict([('fSlon1', 0.4557026856843885), ('fSlon2', 0.03992445596517333), ('fSlon3', 0.0028841625055527234), ('fSlon4', 0.003178289933429951), ('fSlon5', 0.04925877288129037), ('fSlon6', 0.15070597110099176), ('fPlon', 0.5213980571389263), ('fPper', 0.24279611437776336), ('pSlon', 0), ('pPlon', -0.041126662546393966), ('pPpar', 0), ('pPper', 0), ('dSlon1', 1.9800316695205944), ('dSlon2', 1.6457885381928692), ('dSlon3', 1.0810140442135805), ('dSlon4', -0.17457238672137088), ('dSlon5', -0.6135157083821028), ('dSlon6', -0.9751715260740577), ('dPlon', 0), ('dPpar', 3.1431377812019443), ('dPper', 2.7855941004785088), ('lSlon', 1), ('lPlon', 1.0046965769670613), ('lPpar', 1), ('lPper', 1), ('Gd', 0.65789), ('DGs', 0.09594440496504864), ('DGsd', 0.011258329852771046), ('DM', 17.737823516644806), ('eta_os', 0.3602), ('eta_ss', 0.4167), ('p0_os', 0.38986810477060435), ('p1_os', 0.8456602998253557), ('p0_ss', 0.43968228176844526), ('p1_ss', 0.6731069545384176), ('dp0_os', 0.009001340822184331), ('dp1_os', 0.014384385893268709), ('dp0_ss', -0.011313061546682199), ('dp1_ss', 0.0021857203458977847)])\n",
      "{'sigma_offset': 0.01297, 'sigma_slope': 0.8446, 'sigma_curvature': 0}\n"
     ]
    }
   ],
   "source": [
    "pars = ipanema.Parameters.load(\"output/params/physics_params/run2/Bs2JpsiPhi/v2r0bdt2@LcosK_auto_run2Dual_vgc_amsrd_simul3_amsrd_combined.json\").valuesdict(False)\n",
    "# pars['p0_os']  = 0.389\n",
    "# pars['p1_os']  = 0.8486\n",
    "# pars['p0_ss']  = 0.4325\n",
    "# pars['p1_ss']  = 0.9241\n",
    "# pars['dp0_os'] = 0.009\n",
    "# pars['dp1_os'] = 0.0143\n",
    "# pars['dp0_ss'] = 0\n",
    "# pars['dp1_ss'] = 0\n",
    "\n",
    "print(pars)\n",
    "timeres = {\"sigma_offset\":  1.29700e-02, \"sigma_slope\": 8.44600e-01, \"sigma_curvature\":0}\n",
    "print(timeres)"
   ]
  },
  {
   "cell_type": "code",
   "execution_count": 172,
   "id": "ada99a24",
   "metadata": {},
   "outputs": [],
   "source": [
    "def get_omega(eta, tag, p0, p1, p2, dp0, dp1, dp2, eta_bar):\n",
    "  result = 0;\n",
    "  result += (p0 + tag*0.5*dp0);\n",
    "  result += (p1 + tag*0.5*dp1)*(eta - eta_bar);\n",
    "  result += (p2 + tag*0.5*dp2)*(eta - eta_bar)*(eta - eta_bar);\n",
    "\n",
    "  if result < 0.0:\n",
    "      return 0\n",
    "  return result\n",
    "  \n",
    "  \n",
    "def get_omega_simon(eta, tag, p0, p1, p2, dp0, dp1, dp2, eta_bar):\n",
    "     meas_omega = 0.5*(1.0-eta)\n",
    "     ma = 0.99;\n",
    "     mi = 0;\n",
    "     omega = 0\n",
    "     omega += (p0 + 0.5*tag*dp0)\n",
    "     omega += (p1 + 0.5*tag*dp1) * (meas_omega - eta_bar)\n",
    "     omega += (p2 + 0.5*tag*dp2) * (meas_omega - eta_bar)**2\n",
    "     if (1. + eta * (1-2*omega)) == 0:\n",
    "         return 0.5\n",
    "     return omega\n",
    "\n",
    "def calculate_fk(cosK, cosL, hphi):\n",
    "  fk = []\n",
    "  sinK   = np.sqrt(1. - cosK*cosK);\n",
    "  sinL   = np.sqrt(1. - cosL*cosL);\n",
    "  sinphi = np.sin(hphi);\n",
    "  cosphi = np.cos(hphi);\n",
    "\n",
    "  fk.append( cosK*cosK*sinL*sinL ) \n",
    "  fk.append( 0.5*sinK*sinK*(1.-cosphi*cosphi*sinL*sinL) )\n",
    "  fk.append( 0.5*sinK*sinK*(1.-sinphi*sinphi*sinL*sinL) )\n",
    "  fk.append( sinK*sinK*sinL*sinL*sinphi*cosphi )\n",
    "  fk.append( np.sqrt(2.)*sinK*cosK*sinL*cosL*cosphi )\n",
    "  fk.append( -np.sqrt(2.)*sinK*cosK*sinL*cosL*sinphi )\n",
    "  fk.append( sinL*sinL/3. )\n",
    "  fk.append( 2.*sinK*sinL*cosL*cosphi/np.sqrt(6.) )\n",
    "  fk.append( -2.*sinK*sinL*cosL*sinphi/np.sqrt(6.) )\n",
    "  fk.append( 2.*cosK*sinL*sinL/np.sqrt(3.) )\n",
    "  return fk"
   ]
  },
  {
   "cell_type": "code",
   "execution_count": 196,
   "id": "1456601a",
   "metadata": {},
   "outputs": [
    {
     "name": "stdout",
     "output_type": "stream",
     "text": [
      "All events: 586593\n"
     ]
    }
   ],
   "source": [
    "weight_string = \"sw\"\n",
    "tagging = \"data\"\n",
    "asymmetry_plot_plus = []\n",
    "asymmetry_plot_minus = []\n",
    "tLL = 0.0\n",
    "tUL = 2*np.pi / pars['DM']\n",
    "num_bins = 5\n",
    "lh_scale = 10\n",
    "time_offset = 0.3\n",
    "num_events = df.shape[0]\n",
    "print(\"All events:\", num_events)\n",
    "\n",
    "\n",
    "for i in range(num_events):\n",
    "    # weight\n",
    "    wP = df[weight_string].iat[i]\n",
    "    wM = df[weight_string].iat[i]\n",
    "\n",
    "    # print(wP)\n",
    "    tagOS = 0\n",
    "    tagSS = 0\n",
    "    dilutionOS = 0.0\n",
    "    dilutionOSB = 0.0\n",
    "    dilutionOSBbar = 0.0;\n",
    "    dilutionSS = 0.0\n",
    "    dilutionSSB = 0.0\n",
    "    dilutionSSBbar = 0.0;\n",
    "\n",
    "    if tagging == \"perfect\":\n",
    "        tagSS = df['tagOSdec'].iat[i]\n",
    "        tagOS = df['tagSSdec'].iat[i]\n",
    "        dilutionOSB = 1\n",
    "        dilutionSSB = 1\n",
    "        dilutionOSBbar = 1\n",
    "        dilutionSSBbar = 1\n",
    "    else:\n",
    "        tagOS = df['tagOSdec'].values[i]\n",
    "        tagSS = df['tagSSdec'].values[i]\n",
    "        omegaOSB = get_omega(df['tagOSeta'].iat[i], +1,    pars['p0_os'], pars['p1_os'], 0*pars['p1_os'], pars['dp0_os'], pars['dp1_os'], 0*pars['dp1_os'], pars['eta_os'])\n",
    "        omegaOSBbar = get_omega(df['tagOSeta'].iat[i], -1, pars['p0_os'], pars['p1_os'], 0*pars['p1_os'], pars['dp0_os'], pars['dp1_os'], 0*pars['dp1_os'], pars['eta_os'])\n",
    "        omegaSSB = get_omega(df['tagSSeta'].iat[i], +1,    pars['p0_ss'], pars['p1_ss'], 0*pars['p1_ss'], pars['dp0_ss'], pars['dp1_ss'], 0*pars['dp1_ss'], pars['eta_ss'])\n",
    "        omegaSSBbar = get_omega(df['tagSSeta'].iat[i], -1, pars['p0_ss'], pars['p1_ss'], 0*pars['p1_ss'], pars['dp0_ss'], pars['dp1_ss'], 0*pars['dp1_ss'], pars['eta_ss'])\n",
    "        # if i==0: print(\"omegaOSB\", omegaOSB)\n",
    "        # if i==0: print(\"omegaOSBar\", omegaOSBbar)\n",
    "        # if i==0: print(\"omegaSSB\", omegaSSB)\n",
    "        # if i==0: print(\"omegaSSBar\", omegaSSBbar)\n",
    "        dilutionOSB = 1 - 2 * omegaOSB\n",
    "        dilutionSSB = 1 - 2 * omegaSSB\n",
    "        dilutionOSBbar = 1 - 2 * omegaOSBbar\n",
    "        dilutionSSBbar = 1 - 2 * omegaSSBbar\n",
    "\n",
    "    # if i==0: print(tagOS, tagSS)\n",
    "    frac  = ((1+tagOS*dilutionOSB)*(1+tagSS*dilutionSSB))\n",
    "    frac /= ((1+tagOS*dilutionOSB)*(1+tagSS*dilutionSSB)+(1-tagOS*dilutionOSBbar)*(1-tagSS*dilutionSSBbar))\n",
    "    # if i==0: print(wP, frac)\n",
    "    wP *= frac;\n",
    "    wM *= (1-frac);\n",
    "    # 3. tagging dilution weight\n",
    "    wM *= np.abs(frac-0.5)*2;\n",
    "    wP *= np.abs(frac-0.5)*2;\n",
    "    # if i==0: print(wP, wM, frac)\n",
    "    # 4. time resolution dilution weight\n",
    "    #f_res_1=1.0;\n",
    "    #f_res_2=1.0;\n",
    "    #sigma_1=1.0;\n",
    "    #sigma_2=1.0;\n",
    "    #sigma_3=1.0;\n",
    "    #mu     =0.0;\n",
    "    #if (opts->use_per_event_res)\n",
    "    #{\n",
    "    #  probs[k]->calc_per_event_res_params(params[k], events[k]->at(i), sigma_1, sigma_2, sigma_3, f_res_1, f_res_2, mu );\n",
    "    #}\n",
    "    sigma_t = df['sigmat'].iat[i]\n",
    "    delta_t = timeres['sigma_offset'] + timeres['sigma_slope']*sigma_t + timeres['sigma_curvature']*sigma_t**2\n",
    "    #delta_t = 1\n",
    "    wP *= np.exp(-delta_t**2*pars['DM']/2.0)\n",
    "    wM *= np.exp(-delta_t**2*pars['DM']/2.0)\n",
    "    \n",
    "    # angular weight\n",
    "    AS = 0.1\n",
    "    AP = 1 - AS\n",
    "    fk = calculate_fk(df['cosK'].iat[i], df['cosL'].iat[i], df['hphi'].iat[i])\n",
    "    _even = AP*pars['fPlon'] * fk[0] + AP*pars['fPper'] * fk[1]\n",
    "    _odd = AP*pars['fPper'] * fk[2] + AS * fk[6]\n",
    "    wP *= (_even - _odd) / (_even + _odd)\n",
    "    wM *= (_even - _odd) / (_even + _odd)\n",
    "    \n",
    "    # if i<10: print(\"final\", df['time'].iat[i], math.fmod(df['time'].iat[i] - time_offset, tUL), wP, wM)\n",
    "    asymmetry_plot_plus.append([math.fmod(df['time'].iat[i] - time_offset, tUL), wP])\n",
    "    asymmetry_plot_minus.append([math.fmod(df['time'].iat[i] - time_offset, tUL), wM])\n",
    "\n",
    "asymmetry_plot_plus = np.array(asymmetry_plot_plus)\n",
    "asymmetry_plot_minus = np.array(asymmetry_plot_minus)\n",
    "\n",
    "# _plus = complot.hist(asymmetry_plot_plus[:,0], num_bins, weights=asymmetry_plot_plus[:,1], range=(tLL, tUL));\n",
    "# _minus = complot.hist(asymmetry_plot_minus[:,0], num_bins, weights=asymmetry_plot_minus[:,1], range=(tLL, tUL));\n",
    "# _plus = complot.hist(asymmetry_plot_plus[:,0], num_bins);\n",
    "# _minus = complot.hist(asymmetry_plot_minus[:,0], num_bins);\n",
    "\n",
    "_plus = complot.hist(asymmetry_plot_plus[:,0], num_bins, weights=asymmetry_plot_plus[:,1], range=(tLL, tUL));\n",
    "_minus = complot.hist(asymmetry_plot_minus[:,0], num_bins, weights=asymmetry_plot_minus[:,1], range=(tLL, tUL));\n",
    "_uplus = np.sqrt(complot.hist(asymmetry_plot_plus[:,0], num_bins, weights=asymmetry_plot_plus[:,1]**2, range=(tLL, tUL)).counts);\n",
    "_uminus = np.sqrt(complot.hist(asymmetry_plot_minus[:,0], num_bins, weights=asymmetry_plot_minus[:,1]**2, range=(tLL, tUL)).counts);"
   ]
  },
  {
   "cell_type": "code",
   "execution_count": 197,
   "id": "0b51054a",
   "metadata": {},
   "outputs": [
    {
     "name": "stdout",
     "output_type": "stream",
     "text": [
      "0.0354  | +1695.2001  | +1682.5476\n",
      "0.1063  | +1646.8308  | +1649.0501\n",
      "0.1771  | +1554.5715  | +1584.4637\n",
      "0.2480  | +1488.5701  | +1497.6137\n",
      "0.3188  | +1419.4960  | +1419.7318\n"
     ]
    }
   ],
   "source": [
    "for i in range(num_bins):\n",
    "    print(f\"{_plus.bins[i]:.4f}  | {_plus.counts[i]:+.4f}  | {_minus.counts[i]:+.4f}\")"
   ]
  },
  {
   "cell_type": "code",
   "execution_count": 198,
   "id": "192a836a",
   "metadata": {},
   "outputs": [
    {
     "name": "stdout",
     "output_type": "stream",
     "text": [
      "0.1169423896784711\n"
     ]
    },
    {
     "data": {
      "image/png": "[encoded data removed]",
      "text/plain": [
       "<Figure size 432x288 with 2 Axes>"
      ]
     },
     "metadata": {
      "needs_background": "light"
     },
     "output_type": "display_data"
    }
   ],
   "source": [
    "fig, axplot, axpull = complot.axes_plotpull()\n",
    "__plus = unp.uarray(_plus.counts, _uplus)\n",
    "__minus = unp.uarray(_minus.counts, _uminus)\n",
    "asym = (__plus - __minus)/(__plus + __minus)\n",
    "_t = np.linspace(0, tUL, 50) -0.0\n",
    "avg_swave = np.mean([v for k,v in pars.items() if k.startswith('fS')])\n",
    "avg_pwave = 1 - avg_swave\n",
    "print(all_swave)\n",
    "_eta_even = (avg_pwave*pars['fPlon'] + avg_pwave*pars['fPper'])\n",
    "_eta_odd = (avg_pwave*(1-pars['fPlon']-pars['fPper']) + avg_swave*1)\n",
    "_eta = (_eta_even- _eta_odd) / (_eta_even + _eta_odd)\n",
    "_phis = unc.ufloat(0.8*pars['pPlon'], 0.0044)\n",
    "_dg = unc.ufloat(pars['DGs'], 0.0080)\n",
    "_dm = unc.ufloat(pars['DM'], 0.057)\n",
    "_y = _eta * unp.sin(_phis) * unp.sin(_dm*(_t)-np.pi/2) / (unp.cosh(0.5*_dg*_t) - _eta * unp.cos(_phis) * unp.sinh(0.5*_dg*_t))\n",
    "\n",
    "pulls = complot.compute_pdfpulls(_t, unp.nominal_values(_y), _plus.bins, unp.nominal_values(asym), unp.std_devs(asym), unp.std_devs(asym))\n",
    "axpull.fill_between(_plus.bins, pulls, 0, step='mid')\n",
    "axpull.plot(_plus.bins, _plus.bins*0, '-', color='C0')\n",
    "\n",
    "axplot.plot(_t, unp.nominal_values(_y))\n",
    "axplot.fill_between(_t,\n",
    "  unp.nominal_values(_y)+unp.std_devs(_y),\n",
    "  unp.nominal_values(_y)-unp.std_devs(_y),\n",
    "  facecolor=\"C0\",\n",
    "  alpha=0.3)\n",
    "axplot.errorbar(_plus.bins, unp.nominal_values(asym), yerr=(unp.std_devs(asym))**1, xerr=_plus.xerr, fmt='.', color='k')\n",
    "axplot.set_ylim(-0.03, 0.03)\n",
    "axplot.set_xlim(0, tUL)\n",
    "axpull.set_xlabel(\"$t-0.3$ (modulo $2\\pi/\\Delta m_{s}$) [ps]\")\n",
    "axplot.set_ylabel(\"$A_{CP}(t)$\")\n",
    "fig.savefig(\"asymmetry_cp.pdf\")"
   ]
  },
  {
   "cell_type": "code",
   "execution_count": 65,
   "id": "d23e825f",
   "metadata": {},
   "outputs": [
    {
     "data": {
      "text/plain": [
       "[0.3443585427612748,\n",
       " 0.3887170855225496,\n",
       " 0.4330756282838244,\n",
       " 0.4774341710450992,\n",
       " 0.521792713806374,\n",
       " 0.5661512565676489,\n",
       " 0.6105097993289237,\n",
       " 0.6548683420901985]"
      ]
     },
     "execution_count": 65,
     "metadata": {},
     "output_type": "execute_result"
    }
   ],
   "source": [
    "NBINS = 8\n",
    "TIMEFRACS = [(float(it)/100.) for it in range(100)] # ['0.00', '0.50'] # ['0.00', '0.25', '0.50', '0.75']\n",
    "ASYMMAX = 0.07 # plotting range\n",
    "DELTAM = 17.70568\n",
    "OSCPERIOD = 2. * np.pi / DELTAM\n",
    "BINWIDTH = 2. * np.pi / DELTAM / float(NBINS)\n",
    "BINOFFSET = 0.3 / BINWIDTH\n",
    "PERIODSHIFT = -1.\n",
    "\n",
    "\n",
    "[(1. + float(it) + BINOFFSET) / float(NBINS) * OSCPERIOD for it in range(NBINS)]"
   ]
  },
  {
   "cell_type": "code",
   "execution_count": 168,
   "id": "5389c8b9",
   "metadata": {},
   "outputs": [
    {
     "data": {
      "text/plain": [
       "-0.041126662546393966"
      ]
     },
     "execution_count": 168,
     "metadata": {},
     "output_type": "execute_result"
    }
   ],
   "source": [
    "pars['pPlon']"
   ]
  },
  {
   "cell_type": "code",
   "execution_count": null,
   "id": "9d8b5a04",
   "metadata": {},
   "outputs": [],
   "source": []
  }
 ],
 "metadata": {
  "kernelspec": {
   "display_name": "Python 3 (ipykernel)",
   "language": "python",
   "name": "python3"
  },
  "language_info": {
   "codemirror_mode": {
    "name": "ipython",
    "version": 3
   },
   "file_extension": ".py",
   "mimetype": "text/x-python",
   "name": "python",
   "nbconvert_exporter": "python",
   "pygments_lexer": "ipython3",
   "version": "3.8.12"
  },
  "widgets": {
   "application/vnd.jupyter.widget-state+json": {
    "state": {},
    "version_major": 2,
    "version_minor": 0
   }
  }
 },
 "nbformat": 4,
 "nbformat_minor": 5
}
